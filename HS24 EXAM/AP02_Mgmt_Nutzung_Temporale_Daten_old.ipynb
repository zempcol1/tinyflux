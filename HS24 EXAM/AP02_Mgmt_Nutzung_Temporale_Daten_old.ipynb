{
 "cells": [
  {
   "cell_type": "markdown",
   "id": "4cf56921",
   "metadata": {},
   "source": [
    "# Arbeitspaket (AP) 2: Management & Nutzung Temporale Daten"
   ]
  },
  {
   "cell_type": "markdown",
   "id": "0f7fb22f",
   "metadata": {},
   "source": [
    "### Persönliche Angaben (bitte ergänzen)"
   ]
  },
  {
   "cell_type": "markdown",
   "id": "94d35a25",
   "metadata": {},
   "source": [
    "<table>\n",
    "  <tr>\n",
    "    <td>Vorname:</td>\n",
    "    <td></td>\n",
    "  </tr>\n",
    "  <tr>\n",
    "    <td>Nachname:</td>\n",
    "    <td></td>\n",
    "  </tr>\n",
    "  <tr>\n",
    "    <td>Immatrikulationsnummer:</td>\n",
    "    <td></td>\n",
    "  </tr>\n",
    "  <tr>\n",
    "    <td>Modul:</td>\n",
    "    <td>Data Science</td>\n",
    "  </tr>\n",
    "  <tr>\n",
    "    <td>Prüfungsdatum / Raum / Zeit:</td>\n",
    "    <td>07.10.2024 / Raum: SF O3.54 / 8:00 – 11:45</td>\n",
    "  </tr>\n",
    "  <tr>\n",
    "    <td>Erlaubte Hilfsmittel:</td>\n",
    "    <td>w.MA.XX.DS.24HS (Data Science)<br>Open Book, Eigener Computer, Internet-Zugang</td>\n",
    "  </tr>\n",
    "  <tr>\n",
    "  <td>Nicht erlaubt:</td>\n",
    "  <td>Nicht erlaubt ist der Einsatz beliebiger Formen von generativer KI (z.B. Copilot, ChatGPT) <br> sowie beliebige Formen von Kommunikation oder Kollaboration mit anderen Menschen.</td>\n",
    "</tr>\n",
    "</table>"
   ]
  },
  {
   "cell_type": "markdown",
   "id": "61847f62",
   "metadata": {},
   "source": [
    "## Bewertungskriterien\n",
    "\n",
    "### <b style=\"color: gray;\">(max. erreichbare Punkte: 48)</b>\n",
    "\n",
    "<table>\n",
    "  <thead>\n",
    "    <tr>\n",
    "      <th>Kategorie</th>\n",
    "      <th>Beschreibung</th>\n",
    "      <th>Punkteverteilung</th>\n",
    "    </tr>\n",
    "  </thead>\n",
    "  <tbody>\n",
    "    <tr>\n",
    "      <td>Code nicht lauffähig oder Ergebnisse nicht sinnvoll</td>\n",
    "      <td>Der Code enthält Fehler, die verhindern, dass er ausgeführt werden kann (z.B. Syntaxfehler) oder es werden Ergebnisse ausgegeben, welche nicht zur Fragestellung passen.</td>\n",
    "      <td>0 Punkte</td>\n",
    "    </tr>\n",
    "    <tr>\n",
    "      <td>Code lauffähig, aber mit gravierenden Mängeln</td>\n",
    "      <td>Der Code läuft, aber die Ergebnisse sind aufgrund wesentlicher Fehler unvollständig (z.B. fehlende Joins, gravierende Fehler in SQL-Abfragen). Nur geringer Fortschritt erkennbar.</td>\n",
    "      <td>25% der max. erreichbaren Punkte</td>\n",
    "    </tr>\n",
    "    <tr>\n",
    "      <td>Code lauffähig, aber mit mittleren Mängeln</td>\n",
    "      <td>Der Code läuft und liefert teilweise korrekte Ergebnisse, aber es gibt grössere Fehler (z.B. fehlende Spalten, unvollständige SQL-Abfragen). Die Ergebnisse sind nachvollziehbar, aber unvollständig oder ungenau.</td>\n",
    "      <td>50% der max. erreichbaren Punkte</td>\n",
    "    </tr>\n",
    "    <tr>\n",
    "      <td>Code lauffähig, aber mit minimalen Mängeln</td>\n",
    "      <td>Der Code läuft und liefert ein weitgehend korrektes Ergebnis, aber kleinere Fehler (z.B. falsche oder fehlende Sortierung, Rundung von Werten falsch) beeinträchtigen die Vollständigkeit des Ergebnisses.</td>\n",
    "      <td>75% der max. erreichbaren Punkte</td>\n",
    "    </tr>\n",
    "    <tr>\n",
    "      <td>Code lauffähig und korrekt</td>\n",
    "      <td>Der Code läuft einwandfrei und liefert das korrekte Ergebnis ohne Mängel.</td>\n",
    "      <td>100% der max. erreichbaren Punkte</td>\n",
    "    </tr>\n",
    "  </tbody>\n",
    "</table>\n",
    "\n"
   ]
  },
  {
   "cell_type": "markdown",
   "id": "90124c07-594b-4ad9-bfd0-e860212a6f4f",
   "metadata": {},
   "source": [
    "## <b>Vorbereitung (Dieser Teil wird <u>nicht</u> bewertet!)</b>"
   ]
  },
  {
   "cell_type": "markdown",
   "id": "9b8df3dd",
   "metadata": {},
   "source": [
    "#### <b>1.) Python Libraries und Settings importieren:</b>"
   ]
  },
  {
   "cell_type": "code",
   "execution_count": 23,
   "id": "b027d889",
   "metadata": {},
   "outputs": [],
   "source": [
    "# Libraries\n",
    "import pandas as pd\n",
    "import csv\n",
    "from tinyflux import TinyFlux, Point, FieldQuery, TagQuery, TimeQuery\n",
    "from datetime import datetime, timezone, timedelta\n",
    "\n",
    "# Settings\n",
    "import warnings\n",
    "warnings.filterwarnings(\"ignore\")\n",
    "\n",
    "# Abkürzungen für Query-Typen\n",
    "time = TimeQuery()\n",
    "tags = TagQuery()\n",
    "field = FieldQuery()"
   ]
  },
  {
   "cell_type": "markdown",
   "id": "26250af4-2910-4da6-86bc-6c649d0791d3",
   "metadata": {},
   "source": [
    "#### <b>2.) Funktion für die Erstellung eines Dataframes aus Query-Resultaten in den Arbeitsspeicher laden:</b>"
   ]
  },
  {
   "cell_type": "code",
   "execution_count": 24,
   "id": "85718b1e-8fa0-422e-add9-e462f1147bd9",
   "metadata": {
    "tags": []
   },
   "outputs": [],
   "source": [
    "# Define the function to transform the list of Point objects into a DataFrame\n",
    "def points_to_dataframe(points_list):\n",
    "    data = []\n",
    "    \n",
    "    # Extract the relevant information\n",
    "    for point in points_list:\n",
    "        data.append({\n",
    "            \"time\": point.time,  # Access time attribute\n",
    "            \"sender_id\": point.tags['sender_id'],  # Access sender_id from tags dictionary\n",
    "            \"receiver_id\": point.tags['receiver_id'],  # Access receiver_id from tags dictionary\n",
    "            \"status\": point.tags['status'],  # Access status from tags dictionary\n",
    "            \"amount\": point.fields['amount'],  # Access amount from fields dictionary\n",
    "            \"fee\": point.fields['fee']  # Access fee from fields dictionary\n",
    "        })\n",
    "\n",
    "    # Create a DataFrame\n",
    "    df = pd.DataFrame(data)\n",
    "\n",
    "    # Convert time to datetime\n",
    "    df['time'] = pd.to_datetime(df['time'])\n",
    "\n",
    "    return df"
   ]
  },
  {
   "cell_type": "markdown",
   "id": "2e253f40",
   "metadata": {},
   "source": [
    "#### <b>3.) Starten Sie eine GitHub Codespaces Instanz auf Basis Ihres Forks des folgenden GitHub Repositories:</b>\n",
    "\n",
    "##### GitHub-Repository: https://github.com/MariaPelli/tinyflux\n"
   ]
  },
  {
   "cell_type": "markdown",
   "id": "a2442005",
   "metadata": {},
   "source": [
    "#### <b>4.) Erstellen Sie mit Tinyflux eine Datenbank mit dem Namen \"blockchain.db\".</b>"
   ]
  },
  {
   "cell_type": "code",
   "execution_count": 25,
   "id": "36ca64be",
   "metadata": {},
   "outputs": [],
   "source": [
    "# Erstellung der Tinyflux-Datenbank (wird bereitgestellt)\n",
    "db = TinyFlux(\"blockchain.db\")"
   ]
  },
  {
   "cell_type": "markdown",
   "id": "e5c27b72",
   "metadata": {},
   "source": [
    "## <b>Aufgaben: Erstellung der Datenbank und Einlesen der Daten (Dieser Teil wird bewertet!)</b>"
   ]
  },
  {
   "cell_type": "markdown",
   "id": "53f4b234",
   "metadata": {},
   "source": [
    "#### <b>Aufgabe (1): Lesen Sie die CSV-Datei 'blockchain.csv' in ein Dataframe mit dem Namen \"df\" ein, zeigen Sie die ersten 10 Records und geben deskriptive Statistiken des Dataframes aus.</b>\n",
    "\n",
    "<b>Details zur Aufgabenstellung:</b>\n",
    "\n",
    "- Das Laden der CSV-Datei kann mittels der Pandas-Funktion \"read_csv\" (https://pandas.pydata.org/pandas-docs/stable/reference/api/pandas.read_csv.html) erfolgen\n",
    "- Achten Sie darauf, den Zeitstempel mittels der Pandas-Funktion __df['timestamp']= pd.to_datetime(df['timestamp'], format='mixed')__ auf das Format datetime zu setzen (https://pandas.pydata.org/docs/reference/api/pandas.to_datetime.html)\n",
    "- Die ersten 10 Records können mittels der Pandas-Funktion \"df.head()\" wiedergegeben werden (https://pandas.pydata.org/docs/reference/api/pandas.DataFrame.head.html) \n",
    "- Deskriptive Statistiken können mittels Pandas-Funktion \"df.describe()\" (https://pandas.pydata.org/docs/reference/api/pandas.DataFrame.describe.html) wiedergegeben werden. Geben Sie diese für quantitative und kategoriale Variablen aus, indem Sie den Parameter include auf 'all' setzen.\n",
    "\n",
    "<b style=\"color: gray;\">(max. erreichbare Punkte: 4)</b>"
   ]
  },
  {
   "cell_type": "code",
   "execution_count": 26,
   "id": "ef32ffa2-1859-48af-a78c-0f1b5748fc98",
   "metadata": {},
   "outputs": [],
   "source": [
    "# CSV-Datei in Dataframe laden\n",
    "df = pd.read_csv('synthetic_blockchain_transactions.csv')\n",
    "\n",
    "# Das Format des Zeitstempels in Pandas setzen\n",
    "df['time']= pd.to_datetime(df['time'], format='mixed')\n"
   ]
  },
  {
   "cell_type": "code",
   "execution_count": 27,
   "id": "a0e96111-8d86-42e6-abe6-57d49ec7e487",
   "metadata": {
    "tags": []
   },
   "outputs": [
    {
     "data": {
      "text/html": [
       "<div>\n",
       "<style scoped>\n",
       "    .dataframe tbody tr th:only-of-type {\n",
       "        vertical-align: middle;\n",
       "    }\n",
       "\n",
       "    .dataframe tbody tr th {\n",
       "        vertical-align: top;\n",
       "    }\n",
       "\n",
       "    .dataframe thead th {\n",
       "        text-align: right;\n",
       "    }\n",
       "</style>\n",
       "<table border=\"1\" class=\"dataframe\">\n",
       "  <thead>\n",
       "    <tr style=\"text-align: right;\">\n",
       "      <th></th>\n",
       "      <th>time</th>\n",
       "      <th>sender_id</th>\n",
       "      <th>receiver_id</th>\n",
       "      <th>amount</th>\n",
       "      <th>fee</th>\n",
       "      <th>status</th>\n",
       "    </tr>\n",
       "  </thead>\n",
       "  <tbody>\n",
       "    <tr>\n",
       "      <th>0</th>\n",
       "      <td>2023-01-01 00:00:00</td>\n",
       "      <td>1102</td>\n",
       "      <td>1876</td>\n",
       "      <td>8.620564</td>\n",
       "      <td>0.073109</td>\n",
       "      <td>confirmed</td>\n",
       "    </tr>\n",
       "    <tr>\n",
       "      <th>1</th>\n",
       "      <td>2023-01-01 08:44:41</td>\n",
       "      <td>1435</td>\n",
       "      <td>1004</td>\n",
       "      <td>8.445649</td>\n",
       "      <td>0.098132</td>\n",
       "      <td>confirmed</td>\n",
       "    </tr>\n",
       "    <tr>\n",
       "      <th>2</th>\n",
       "      <td>2023-01-01 17:29:22</td>\n",
       "      <td>1860</td>\n",
       "      <td>1118</td>\n",
       "      <td>3.191686</td>\n",
       "      <td>0.025727</td>\n",
       "      <td>confirmed</td>\n",
       "    </tr>\n",
       "    <tr>\n",
       "      <th>3</th>\n",
       "      <td>2023-01-02 02:14:03</td>\n",
       "      <td>1270</td>\n",
       "      <td>1800</td>\n",
       "      <td>8.289326</td>\n",
       "      <td>0.065452</td>\n",
       "      <td>confirmed</td>\n",
       "    </tr>\n",
       "    <tr>\n",
       "      <th>4</th>\n",
       "      <td>2023-01-02 10:58:44</td>\n",
       "      <td>1106</td>\n",
       "      <td>1373</td>\n",
       "      <td>0.371039</td>\n",
       "      <td>0.019890</td>\n",
       "      <td>pending</td>\n",
       "    </tr>\n",
       "  </tbody>\n",
       "</table>\n",
       "</div>"
      ],
      "text/plain": [
       "                 time  sender_id  receiver_id    amount       fee     status\n",
       "0 2023-01-01 00:00:00       1102         1876  8.620564  0.073109  confirmed\n",
       "1 2023-01-01 08:44:41       1435         1004  8.445649  0.098132  confirmed\n",
       "2 2023-01-01 17:29:22       1860         1118  3.191686  0.025727  confirmed\n",
       "3 2023-01-02 02:14:03       1270         1800  8.289326  0.065452  confirmed\n",
       "4 2023-01-02 10:58:44       1106         1373  0.371039  0.019890    pending"
      ]
     },
     "execution_count": 27,
     "metadata": {},
     "output_type": "execute_result"
    }
   ],
   "source": [
    "# Erste 10 Records des Dataframes anzeigen\n",
    "df.head()"
   ]
  },
  {
   "cell_type": "code",
   "execution_count": 28,
   "id": "a05e328c-b0c2-4fb3-ab50-e92c613fc801",
   "metadata": {
    "tags": []
   },
   "outputs": [
    {
     "data": {
      "text/html": [
       "<div>\n",
       "<style scoped>\n",
       "    .dataframe tbody tr th:only-of-type {\n",
       "        vertical-align: middle;\n",
       "    }\n",
       "\n",
       "    .dataframe tbody tr th {\n",
       "        vertical-align: top;\n",
       "    }\n",
       "\n",
       "    .dataframe thead th {\n",
       "        text-align: right;\n",
       "    }\n",
       "</style>\n",
       "<table border=\"1\" class=\"dataframe\">\n",
       "  <thead>\n",
       "    <tr style=\"text-align: right;\">\n",
       "      <th></th>\n",
       "      <th>time</th>\n",
       "      <th>sender_id</th>\n",
       "      <th>receiver_id</th>\n",
       "      <th>amount</th>\n",
       "      <th>fee</th>\n",
       "      <th>status</th>\n",
       "    </tr>\n",
       "  </thead>\n",
       "  <tbody>\n",
       "    <tr>\n",
       "      <th>count</th>\n",
       "      <td>1000</td>\n",
       "      <td>1000.000000</td>\n",
       "      <td>1000.00000</td>\n",
       "      <td>1000.000000</td>\n",
       "      <td>1000.000000</td>\n",
       "      <td>1000</td>\n",
       "    </tr>\n",
       "    <tr>\n",
       "      <th>unique</th>\n",
       "      <td>NaN</td>\n",
       "      <td>NaN</td>\n",
       "      <td>NaN</td>\n",
       "      <td>NaN</td>\n",
       "      <td>NaN</td>\n",
       "      <td>3</td>\n",
       "    </tr>\n",
       "    <tr>\n",
       "      <th>top</th>\n",
       "      <td>NaN</td>\n",
       "      <td>NaN</td>\n",
       "      <td>NaN</td>\n",
       "      <td>NaN</td>\n",
       "      <td>NaN</td>\n",
       "      <td>confirmed</td>\n",
       "    </tr>\n",
       "    <tr>\n",
       "      <th>freq</th>\n",
       "      <td>NaN</td>\n",
       "      <td>NaN</td>\n",
       "      <td>NaN</td>\n",
       "      <td>NaN</td>\n",
       "      <td>NaN</td>\n",
       "      <td>757</td>\n",
       "    </tr>\n",
       "    <tr>\n",
       "      <th>mean</th>\n",
       "      <td>2023-07-01 23:59:59.513999872</td>\n",
       "      <td>1503.929000</td>\n",
       "      <td>1493.90800</td>\n",
       "      <td>5.028441</td>\n",
       "      <td>0.050322</td>\n",
       "      <td>NaN</td>\n",
       "    </tr>\n",
       "    <tr>\n",
       "      <th>min</th>\n",
       "      <td>2023-01-01 00:00:00</td>\n",
       "      <td>1000.000000</td>\n",
       "      <td>1000.00000</td>\n",
       "      <td>0.033179</td>\n",
       "      <td>0.000101</td>\n",
       "      <td>NaN</td>\n",
       "    </tr>\n",
       "    <tr>\n",
       "      <th>25%</th>\n",
       "      <td>2023-04-01 23:59:59.750000128</td>\n",
       "      <td>1242.750000</td>\n",
       "      <td>1227.75000</td>\n",
       "      <td>2.403905</td>\n",
       "      <td>0.027109</td>\n",
       "      <td>NaN</td>\n",
       "    </tr>\n",
       "    <tr>\n",
       "      <th>50%</th>\n",
       "      <td>2023-07-01 23:59:59.500000</td>\n",
       "      <td>1505.000000</td>\n",
       "      <td>1500.00000</td>\n",
       "      <td>5.138016</td>\n",
       "      <td>0.050444</td>\n",
       "      <td>NaN</td>\n",
       "    </tr>\n",
       "    <tr>\n",
       "      <th>75%</th>\n",
       "      <td>2023-09-30 23:59:59.249999872</td>\n",
       "      <td>1757.250000</td>\n",
       "      <td>1763.75000</td>\n",
       "      <td>7.567064</td>\n",
       "      <td>0.075713</td>\n",
       "      <td>NaN</td>\n",
       "    </tr>\n",
       "    <tr>\n",
       "      <th>max</th>\n",
       "      <td>2023-12-31 00:00:00</td>\n",
       "      <td>1998.000000</td>\n",
       "      <td>1997.00000</td>\n",
       "      <td>9.994138</td>\n",
       "      <td>0.099782</td>\n",
       "      <td>NaN</td>\n",
       "    </tr>\n",
       "    <tr>\n",
       "      <th>std</th>\n",
       "      <td>NaN</td>\n",
       "      <td>289.998108</td>\n",
       "      <td>298.60317</td>\n",
       "      <td>2.918927</td>\n",
       "      <td>0.028898</td>\n",
       "      <td>NaN</td>\n",
       "    </tr>\n",
       "  </tbody>\n",
       "</table>\n",
       "</div>"
      ],
      "text/plain": [
       "                                 time    sender_id  receiver_id       amount  \\\n",
       "count                            1000  1000.000000   1000.00000  1000.000000   \n",
       "unique                            NaN          NaN          NaN          NaN   \n",
       "top                               NaN          NaN          NaN          NaN   \n",
       "freq                              NaN          NaN          NaN          NaN   \n",
       "mean    2023-07-01 23:59:59.513999872  1503.929000   1493.90800     5.028441   \n",
       "min               2023-01-01 00:00:00  1000.000000   1000.00000     0.033179   \n",
       "25%     2023-04-01 23:59:59.750000128  1242.750000   1227.75000     2.403905   \n",
       "50%        2023-07-01 23:59:59.500000  1505.000000   1500.00000     5.138016   \n",
       "75%     2023-09-30 23:59:59.249999872  1757.250000   1763.75000     7.567064   \n",
       "max               2023-12-31 00:00:00  1998.000000   1997.00000     9.994138   \n",
       "std                               NaN   289.998108    298.60317     2.918927   \n",
       "\n",
       "                fee     status  \n",
       "count   1000.000000       1000  \n",
       "unique          NaN          3  \n",
       "top             NaN  confirmed  \n",
       "freq            NaN        757  \n",
       "mean       0.050322        NaN  \n",
       "min        0.000101        NaN  \n",
       "25%        0.027109        NaN  \n",
       "50%        0.050444        NaN  \n",
       "75%        0.075713        NaN  \n",
       "max        0.099782        NaN  \n",
       "std        0.028898        NaN  "
      ]
     },
     "execution_count": 28,
     "metadata": {},
     "output_type": "execute_result"
    }
   ],
   "source": [
    "# Deskriptive Statistiken des Dataframes\n",
    "df.describe(include='all')"
   ]
  },
  {
   "cell_type": "markdown",
   "id": "66164662",
   "metadata": {},
   "source": [
    "#### <b>Aufgabe (2): Schreiben Sie den Inhalt der CSV-Datei 'blockchain.csv' in die erstellte Tinyflux-Datenbank \"blockchain.db\" und weisen sie Time, Fields und Tags zu.</b>\n",
    "\n",
    "<b style=\"color: gray;\">(max. erreichbare Punkte: 8)</b>"
   ]
  },
  {
   "cell_type": "code",
   "execution_count": 29,
   "id": "cfd07b2d-1b23-4c93-b3f9-ccc3dcc73c31",
   "metadata": {},
   "outputs": [],
   "source": [
    "# Einlesen der CSV-Datei in Tinyflux\n",
    "with open(\"synthetic_blockchain_transactions.csv\", mode=\"r\") as file:\n",
    "    reader = csv.DictReader(file)\n",
    "    for row in reader:\n",
    "        point = Point(\n",
    "            time=datetime.strptime(row[\"time\"], \"%Y-%m-%d %H:%M:%S\"),\n",
    "            measurement=\"blockchain_transactions\",\n",
    "            fields={\n",
    "                \"amount\": float(row[\"amount\"]),\n",
    "                \"fee\": float(row[\"fee\"])\n",
    "                },  # Only numeric fields\n",
    "            tags={\n",
    "                \"sender_id\": row[\"sender_id\"],\n",
    "                \"receiver_id\": row[\"receiver_id\"],\n",
    "                \"status\": row[\"status\"]  # Move non-numeric fields to tags\n",
    "            }\n",
    "        )\n",
    "        db.insert(point)"
   ]
  },
  {
   "cell_type": "markdown",
   "id": "8b3b0ec4-23c0-4a37-9b5b-1e07bc086dd9",
   "metadata": {
    "tags": []
   },
   "source": [
    "#### <b>Aufgabe (3): Fügen Sie die folgenden vier Transaktionen manuell in die Datenbank ein und weisen Sie Time, Fields und Tags gleichermassen zu, wie beim Inhalt der CSV-Datei.</b>\n",
    "\n",
    "<b style=\"color: gray;\">(max. erreichbare Punkte: 4)</b>"
   ]
  },
  {
   "cell_type": "markdown",
   "id": "a7265ca3-f195-4d9a-b4fa-1b211f3a7ae5",
   "metadata": {},
   "source": [
    "| timestamp | sender_id | receiver_id | amount | fee | status |\n",
    "| --- | --- | --- | --- | --- | --- |\n",
    "| 2024-01-01 00:00:00 | 1700 | 1000 | 4.596327 | 0.064793 | confirmed |\n",
    "| 2024-01-01 07:00:00 | 1800 | 2000 | 7.463891 | 0.034658 | confirmed |\n",
    "| 2024-01-01 08:00:00 | 1900 | 3000 | 3.546987 | 0.075311 | pending |\n",
    "| 2024-01-01 09:00:00 | 2000 | 4000 | 1.347962 | 0.942864 | pending |"
   ]
  },
  {
   "cell_type": "code",
   "execution_count": 30,
   "id": "ed3e36b8-11e5-48b3-babf-ed6558f47728",
   "metadata": {
    "tags": []
   },
   "outputs": [
    {
     "data": {
      "text/plain": [
       "4"
      ]
     },
     "execution_count": 30,
     "metadata": {},
     "output_type": "execute_result"
    }
   ],
   "source": [
    "# Einlesen von manuellen Records\n",
    "p1 = Point(\n",
    "    time=datetime(2024, 1, 1, 0, 0, 0, tzinfo=timezone.utc),\n",
    "    tags={\"sender_id\": \"1700\", \"receiver_id\": \"1000\", \"status\": \"confirmed\"},\n",
    "    fields={\"amount\": 4.596327, \"fee\": 0.064793}\n",
    ")\n",
    "\n",
    "p2 = Point(\n",
    "    time=datetime(2024, 1, 1, 7, 0, 0, tzinfo=timezone.utc),\n",
    "    tags={\"sender_id\": \"1800\", \"receiver_id\": \"2000\", \"status\": \"confirmed\"},\n",
    "    fields={\"amount\": 7.463891, \"fee\": 0.034658}\n",
    ")\n",
    "\n",
    "p3 = Point(\n",
    "    time=datetime(2024, 1, 1, 8, 0, 0, tzinfo=timezone.utc),\n",
    "    tags={\"sender_id\": \"1900\", \"receiver_id\": \"3000\", \"status\": \"pending\"},\n",
    "    fields={\"amount\": 3.546987, \"fee\": 0.075311}\n",
    ")\n",
    "\n",
    "p4 = Point(\n",
    "    time=datetime(2024, 1, 1, 9, 0, 0, tzinfo=timezone.utc),\n",
    "    tags={\"sender_id\": \"2000\", \"receiver_id\": \"3000\", \"status\": \"pending\"},\n",
    "    fields={\"amount\": 1.347962, \"fee\": 0.942864}\n",
    ")\n",
    "\n",
    "# Insert into the DB.\n",
    "db.insert_multiple([p1, p2, p3, p4])"
   ]
  },
  {
   "cell_type": "markdown",
   "id": "4f6fa711",
   "metadata": {},
   "source": [
    "<div style=\"background-color: #F0EAD6;\">\n",
    "\n",
    "#### <b> Hinweis! \n",
    "\n",
    "#### Falls etwas mit der Erstellung der Datenbank nicht funktioniert, verwenden Sie für die folgenden Aufgaben die Tinyflux Datenbank 'blockchain_fallback.db'. Gehen Sie davon aus, dass diese unter denselben, obigen Bedingungen erstellt wurde.</b>\n",
    "    \n",
    "#### <b>Erstellen der Verbindung mit der Tinyflux-Datenbank mit dem Namen \"blockchain_fallback.db\":</b>\n",
    "</div>"
   ]
  },
  {
   "cell_type": "code",
   "execution_count": 31,
   "id": "2249c16f-aac9-4a4b-8640-fb20614e8de6",
   "metadata": {},
   "outputs": [],
   "source": [
    "# Erstellung der Tinyflux-Datenbank (wird bereitgestellt)\n",
    "db = TinyFlux(\"blockchain_fallback.db\")"
   ]
  },
  {
   "cell_type": "markdown",
   "id": "f1b7e2b8-3f89-461d-b1f7-de6d577a102d",
   "metadata": {},
   "source": [
    "## <b>Aufgaben: Abfragen (Queries) (Dieser Teil wird bewertet!)</b>\n",
    "\n",
    "<b style=\"color:blue;\">Hinweise zu den folgenden Aufgabenstellungen:</b>\n",
    "<ul style=\"color:blue;\">\n",
    "  <li>Erstellen Sie je Aufgabe eine Time-, Field- oder Tag Abfrage bzw. eine Kombination von diesen und integrieren Sie diese in Ihren Python Code.</li>\n",
    "  <li>Speichern Sie je Aufgabe die Ergebnistabelle mittels der zu Beginn dieses Notebooks bereitgestellten Funktion <b>points_to_dataframe</b> in einem DataFrame und stellen Sie diesen bzw. dessen Eigenschaften ganz oder in Teilen (z.B. erste 5 Zeilen) dar.</li>\n",
    "</ul>"
   ]
  },
  {
   "cell_type": "markdown",
   "id": "8af4064e-4cc5-46d7-beba-bd6fb9a73d45",
   "metadata": {},
   "source": [
    "#### <b>Aufgabe (4): Geben Sie die vier zuletzt, manuell hinzugefügten Records aus</b>\n",
    "\n",
    "<b style=\"color: gray;\">(max. erreichbare Punkte: 4)</b>"
   ]
  },
  {
   "cell_type": "code",
   "execution_count": 32,
   "id": "0d536be5-d641-476c-9d36-6e7a0a8bebe2",
   "metadata": {
    "tags": []
   },
   "outputs": [
    {
     "data": {
      "text/html": [
       "<div>\n",
       "<style scoped>\n",
       "    .dataframe tbody tr th:only-of-type {\n",
       "        vertical-align: middle;\n",
       "    }\n",
       "\n",
       "    .dataframe tbody tr th {\n",
       "        vertical-align: top;\n",
       "    }\n",
       "\n",
       "    .dataframe thead th {\n",
       "        text-align: right;\n",
       "    }\n",
       "</style>\n",
       "<table border=\"1\" class=\"dataframe\">\n",
       "  <thead>\n",
       "    <tr style=\"text-align: right;\">\n",
       "      <th></th>\n",
       "      <th>time</th>\n",
       "      <th>sender_id</th>\n",
       "      <th>receiver_id</th>\n",
       "      <th>status</th>\n",
       "      <th>amount</th>\n",
       "      <th>fee</th>\n",
       "    </tr>\n",
       "  </thead>\n",
       "  <tbody>\n",
       "    <tr>\n",
       "      <th>0</th>\n",
       "      <td>2024-01-01 00:00:00+00:00</td>\n",
       "      <td>1700</td>\n",
       "      <td>5000</td>\n",
       "      <td>confirmed</td>\n",
       "      <td>4.596327</td>\n",
       "      <td>0.064793</td>\n",
       "    </tr>\n",
       "    <tr>\n",
       "      <th>1</th>\n",
       "      <td>2024-01-01 07:00:00+00:00</td>\n",
       "      <td>1800</td>\n",
       "      <td>6000</td>\n",
       "      <td>confirmed</td>\n",
       "      <td>7.463891</td>\n",
       "      <td>0.034658</td>\n",
       "    </tr>\n",
       "    <tr>\n",
       "      <th>2</th>\n",
       "      <td>2024-01-01 08:00:00+00:00</td>\n",
       "      <td>1900</td>\n",
       "      <td>7000</td>\n",
       "      <td>pending</td>\n",
       "      <td>3.546987</td>\n",
       "      <td>0.075311</td>\n",
       "    </tr>\n",
       "    <tr>\n",
       "      <th>3</th>\n",
       "      <td>2024-01-01 09:00:00+00:00</td>\n",
       "      <td>2000</td>\n",
       "      <td>8000</td>\n",
       "      <td>pending</td>\n",
       "      <td>1.347962</td>\n",
       "      <td>0.942864</td>\n",
       "    </tr>\n",
       "  </tbody>\n",
       "</table>\n",
       "</div>"
      ],
      "text/plain": [
       "                       time sender_id receiver_id     status    amount  \\\n",
       "0 2024-01-01 00:00:00+00:00      1700        5000  confirmed  4.596327   \n",
       "1 2024-01-01 07:00:00+00:00      1800        6000  confirmed  7.463891   \n",
       "2 2024-01-01 08:00:00+00:00      1900        7000    pending  3.546987   \n",
       "3 2024-01-01 09:00:00+00:00      2000        8000    pending  1.347962   \n",
       "\n",
       "        fee  \n",
       "0  0.064793  \n",
       "1  0.034658  \n",
       "2  0.075311  \n",
       "3  0.942864  "
      ]
     },
     "execution_count": 32,
     "metadata": {},
     "output_type": "execute_result"
    }
   ],
   "source": [
    "# Definieren der Query\n",
    "time_query_conditions = (time >= datetime(2024, 1, 1, 0, 0, 0, tzinfo=timezone.utc))\n",
    "\n",
    "# Datenabfrage mittels der definierten Query\n",
    "my_results = db.search(time_query_conditions)\n",
    "\n",
    "# Erstellung eines Dataframes aus den Query-Resultaten\n",
    "df_result_time = points_to_dataframe(my_results)\n",
    "df_result_time"
   ]
  },
  {
   "cell_type": "markdown",
   "id": "325b22f2-9e73-4273-90c4-f75282a0b13b",
   "metadata": {},
   "source": [
    "#### <b>Aufgabe (5): Ermitteln Sie, welche Sender bereits vor dem manuell eingetragenen Zeitraum Transaktionen in Auftrag gegeben hatten</b>\n",
    "\n",
    "<b style=\"color: gray;\">(max. erreichbare Punkte: 4)</b>"
   ]
  },
  {
   "cell_type": "code",
   "execution_count": 33,
   "id": "dc590284-89c9-4211-a61d-83d62ee67536",
   "metadata": {},
   "outputs": [
    {
     "data": {
      "text/html": [
       "<div>\n",
       "<style scoped>\n",
       "    .dataframe tbody tr th:only-of-type {\n",
       "        vertical-align: middle;\n",
       "    }\n",
       "\n",
       "    .dataframe tbody tr th {\n",
       "        vertical-align: top;\n",
       "    }\n",
       "\n",
       "    .dataframe thead th {\n",
       "        text-align: right;\n",
       "    }\n",
       "</style>\n",
       "<table border=\"1\" class=\"dataframe\">\n",
       "  <thead>\n",
       "    <tr style=\"text-align: right;\">\n",
       "      <th></th>\n",
       "      <th>time</th>\n",
       "      <th>sender_id</th>\n",
       "      <th>receiver_id</th>\n",
       "      <th>status</th>\n",
       "      <th>amount</th>\n",
       "      <th>fee</th>\n",
       "    </tr>\n",
       "  </thead>\n",
       "  <tbody>\n",
       "    <tr>\n",
       "      <th>0</th>\n",
       "      <td>2023-01-03 03:28:06+00:00</td>\n",
       "      <td>1700</td>\n",
       "      <td>1145</td>\n",
       "      <td>confirmed</td>\n",
       "      <td>2.300858</td>\n",
       "      <td>0.046447</td>\n",
       "    </tr>\n",
       "    <tr>\n",
       "      <th>1</th>\n",
       "      <td>2023-06-01 20:33:30+00:00</td>\n",
       "      <td>1800</td>\n",
       "      <td>1839</td>\n",
       "      <td>failed</td>\n",
       "      <td>4.438058</td>\n",
       "      <td>0.083382</td>\n",
       "    </tr>\n",
       "  </tbody>\n",
       "</table>\n",
       "</div>"
      ],
      "text/plain": [
       "                       time sender_id receiver_id     status    amount  \\\n",
       "0 2023-01-03 03:28:06+00:00      1700        1145  confirmed  2.300858   \n",
       "1 2023-06-01 20:33:30+00:00      1800        1839     failed  4.438058   \n",
       "\n",
       "        fee  \n",
       "0  0.046447  \n",
       "1  0.083382  "
      ]
     },
     "execution_count": 33,
     "metadata": {},
     "output_type": "execute_result"
    }
   ],
   "source": [
    "# Definieren der Queries\n",
    "tag_query_conditions = (tags.sender_id == \"1700\") | (tags.sender_id == \"1800\") | (tags.sender_id == \"1900\") | (tags.sender_id == \"2000\")\n",
    "time_query_conditions = (time < datetime(2024, 1, 1, 0, 0, 0, tzinfo=timezone.utc))\n",
    "\n",
    "# Datenabfrage mittels der definierten Queries\n",
    "my_results = db.search(time_query_conditions & tag_query_conditions)\n",
    "\n",
    "# Erstellung eines Dataframes aus den Query-Resultaten\n",
    "df_results = points_to_dataframe(my_results)\n",
    "df_results"
   ]
  },
  {
   "cell_type": "markdown",
   "id": "d6cbee6a-08fe-41e5-8d64-68b75ee448cf",
   "metadata": {
    "tags": []
   },
   "source": [
    "#### <b>Aufgabe (6): Ermitteln Sie für das Jahr 2023 die Anzahl Transaktionen pro Quartal</b>\n",
    "\n",
    "<b>Details zur Aufgabenstellung:</b>\n",
    "- Die Anzahl Transaktionen kann mittels len(df_result), angewendet auf das Dataframe oder die Rohausgabe des Queries, herausgegeben werden\n",
    "\n",
    "<b style=\"color: gray;\">(max. erreichbare Punkte: 8)</b>"
   ]
  },
  {
   "cell_type": "code",
   "execution_count": 41,
   "id": "6f7f77d3-e98c-4c72-a181-a08ff18c0a58",
   "metadata": {
    "tags": []
   },
   "outputs": [
    {
     "name": "stdout",
     "output_type": "stream",
     "text": [
      "Q1 Anzahl: 247\n",
      "Q2 Anzahl: 249\n",
      "Q3 Anzahl: 253\n",
      "Q4 Anzahl: 250\n"
     ]
    }
   ],
   "source": [
    "# Definieren der Queries (?!)\n",
    "q1_query = (time >= datetime(2023, 1, 1, tzinfo=timezone.utc)) & (time < datetime(2023, 4, 1, tzinfo=timezone.utc))\n",
    "q2_query = (time >= datetime(2023, 4, 1, tzinfo=timezone.utc)) & (time < datetime(2023, 7, 1, tzinfo=timezone.utc))\n",
    "q3_query = (time >= datetime(2023, 7, 1, tzinfo=timezone.utc)) & (time < datetime(2023, 10, 1, tzinfo=timezone.utc))\n",
    "q4_query = (time >= datetime(2023, 10, 1, tzinfo=timezone.utc)) & (time < datetime(2024, 1, 1, tzinfo=timezone.utc))\n",
    "\n",
    "# Datenabfrage mittels der definierten Queries\n",
    "q1_results = db.search(q1_query)\n",
    "q2_results = db.search(q2_query)\n",
    "q3_results = db.search(q3_query)\n",
    "q4_results = db.search(q4_query)\n",
    "\n",
    "# Erstellung eines Dataframes aus den Query-Resultaten\n",
    "q1_df = points_to_dataframe(q1_results)\n",
    "q2_df = points_to_dataframe(q2_results)\n",
    "q3_df = points_to_dataframe(q3_results)\n",
    "q4_df = points_to_dataframe(q4_results)\n",
    "\n",
    "# Ausgabe der aggregierten Resultate\n",
    "print(\"Q1 Anzahl:\", len(q1_df))\n",
    "print(\"Q2 Anzahl:\", len(q2_df))\n",
    "print(\"Q3 Anzahl:\", len(q3_df))\n",
    "print(\"Q4 Anzahl:\", len(q4_df))\n"
   ]
  },
  {
   "cell_type": "markdown",
   "id": "b467f4eb-d2ea-4a29-926b-94adf3eea0f1",
   "metadata": {
    "tags": []
   },
   "source": [
    "#### <b>Aufgabe (7): Ermitteln Sie den durchschnittlichen Amount-Betrag pro Status</b>\n",
    "\n",
    "<b>Details zur Aufgabenstellung:</b>\n",
    "- Alle im Datensatz vorhandenen Status können Sie mittels der Pandas-Funktion \"df.attributname.unique()\" (https://pandas.pydata.org/docs/reference/api/pandas.unique.html) ermitteln\n",
    "- Den Durchschnitt über eine Spalte können Sie mittels der Pandas-Funktion df[['spaltenname']].mean() https://pandas.pydata.org/pandas-docs/stable/reference/api/pandas.DataFrame.mean.html ermitteln\n",
    "\n",
    "<b style=\"color: gray;\">(max. erreichbare Punkte: 8)</b>"
   ]
  },
  {
   "cell_type": "code",
   "execution_count": 42,
   "id": "0c638303-0b35-4e5d-8454-e877e7f0f868",
   "metadata": {
    "tags": []
   },
   "outputs": [
    {
     "data": {
      "text/plain": [
       "array(['confirmed', 'pending', 'failed'], dtype=object)"
      ]
     },
     "execution_count": 42,
     "metadata": {},
     "output_type": "execute_result"
    }
   ],
   "source": [
    "df.status.unique()"
   ]
  },
  {
   "cell_type": "code",
   "execution_count": 46,
   "id": "04c1636b-1760-4dcd-bdf2-f109d9a9c443",
   "metadata": {
    "tags": []
   },
   "outputs": [
    {
     "name": "stdout",
     "output_type": "stream",
     "text": [
      "Durchschnitt der Werte mit Status 'confirmed':  amount    5.033816\n",
      "dtype: float64\n",
      "Durchschnitt der Werte mit Status 'pending':  amount    4.944302\n",
      "dtype: float64\n",
      "Durchschnitt der Werte mit Status 'failed':  amount    5.262778\n",
      "dtype: float64\n"
     ]
    }
   ],
   "source": [
    "# Definieren der Queries\n",
    "tag_query_conditions_confirmed = (tags.status == \"confirmed\")\n",
    "tag_query_conditions_pending = (tags.status == \"pending\")\n",
    "tag_query_conditions_failed = (tags.status == \"failed\")\n",
    "\n",
    "# Datenabfrage mittels der definierten Queries\n",
    "my_results_confirmed = db.search(tag_query_conditions_confirmed)\n",
    "my_results_pending = db.search(tag_query_conditions_pending)\n",
    "my_results_failed = db.search(tag_query_conditions_failed)\n",
    "\n",
    "# Erstellung eines Dataframes aus den Query-Resultaten\n",
    "df_result_tag_confirmed = points_to_dataframe(my_results_confirmed)\n",
    "df_result_tag_pending = points_to_dataframe(my_results_pending)\n",
    "df_result_tag_failed = points_to_dataframe(my_results_failed)\n",
    "\n",
    "mean_confirmed = df_result_tag_confirmed[['amount']].mean()\n",
    "mean_pending = df_result_tag_pending[['amount']].mean()\n",
    "mean_failed = df_result_tag_failed[['amount']].mean()\n",
    "\n",
    "# Ausgabe der aggregierten Resultate\n",
    "print(\"Durchschnitt der Werte mit Status 'confirmed': \", mean_confirmed)\n",
    "print(\"Durchschnitt der Werte mit Status 'pending': \", mean_pending)\n",
    "print(\"Durchschnitt der Werte mit Status 'failed': \", mean_failed)\n"
   ]
  },
  {
   "cell_type": "markdown",
   "id": "fd08adfb-9cf3-499e-acef-d91595f31a66",
   "metadata": {},
   "source": [
    "#### <b>Aufgabe (8): Ermitteln Sie pro Quartal für das Jahr 2023 die Anzahl Transaktionen, die höhere Gebühren (fee) aufweisen, als der Median von fee.</b>\n",
    "\n",
    "<b>Details zur Aufgabenstellung:</b>\n",
    "- Die Anzahl Transaktionen kann mittels len(df_result), angewendet auf das Dataframe oder die Rohausgabe des Queries, herausgegeben werden\n",
    "- Der Median ist den zu Beginn dieses Notebooks erstellten, deskriptiven Statistiken (50%) ausgeführt\n",
    "\n",
    "<b style=\"color: gray;\">(max. erreichbare Punkte: 8)</b>"
   ]
  },
  {
   "cell_type": "code",
   "execution_count": 47,
   "id": "6d02353c-be60-407f-984f-bca7f811ba1b",
   "metadata": {
    "tags": []
   },
   "outputs": [
    {
     "name": "stdout",
     "output_type": "stream",
     "text": [
      "Q1 Anzahl: 135\n",
      "Q2 Anzahl: 117\n",
      "Q3 Anzahl: 115\n",
      "Q4 Anzahl: 132\n"
     ]
    }
   ],
   "source": [
    "# Definieren der Queries\n",
    "q1_query = (time >= datetime(2023, 1, 1, tzinfo=timezone.utc)) & (time < datetime(2023, 4, 1, tzinfo=timezone.utc))\n",
    "q2_query = (time >= datetime(2023, 4, 1, tzinfo=timezone.utc)) & (time < datetime(2023, 7, 1, tzinfo=timezone.utc))\n",
    "q3_query = (time >= datetime(2023, 7, 1, tzinfo=timezone.utc)) & (time < datetime(2023, 10, 1, tzinfo=timezone.utc))\n",
    "q4_query = (time >= datetime(2023, 10, 1, tzinfo=timezone.utc)) & (time < datetime(2024, 1, 1, tzinfo=timezone.utc))\n",
    "median = 0.050444\n",
    "field_query_conditions = (field.fee > median)\n",
    "\n",
    "# Datenabfrage mittels der definierten Queries\n",
    "q1_results = db.search(q1_query & field_query_conditions)\n",
    "q2_results = db.search(q2_query & field_query_conditions)\n",
    "q3_results = db.search(q3_query & field_query_conditions)\n",
    "q4_results = db.search(q4_query & field_query_conditions)\n",
    "\n",
    "# Erstellung eines Dataframes aus den Query-Resultaten\n",
    "q1_df = points_to_dataframe(q1_results)\n",
    "q2_df = points_to_dataframe(q2_results)\n",
    "q3_df = points_to_dataframe(q3_results)\n",
    "q4_df = points_to_dataframe(q4_results)\n",
    "\n",
    "# Ausgabe der aggregierten Resultate\n",
    "print(\"Q1 Anzahl:\", len(q1_df))\n",
    "print(\"Q2 Anzahl:\", len(q2_df))\n",
    "print(\"Q3 Anzahl:\", len(q3_df))\n",
    "print(\"Q4 Anzahl:\", len(q4_df))"
   ]
  },
  {
   "cell_type": "markdown",
   "id": "ff525b1e",
   "metadata": {},
   "source": [
    "### Jupyter notebook --footer info-- (please always provide this at the end of each notebook)"
   ]
  },
  {
   "cell_type": "code",
   "execution_count": 48,
   "id": "e6cae5b2",
   "metadata": {},
   "outputs": [
    {
     "name": "stdout",
     "output_type": "stream",
     "text": [
      "-----------------------------------\n",
      "POSIX\n",
      "Linux | 6.8.0-1030-azure\n",
      "Datetime: 2025-09-28 07:14:20\n",
      "Python Version: 3.12.1\n",
      "IP Address: 127.0.0.1\n",
      "-----------------------------------\n"
     ]
    }
   ],
   "source": [
    "import os\n",
    "import platform\n",
    "import socket\n",
    "from platform import python_version\n",
    "from datetime import datetime\n",
    "\n",
    "print('-----------------------------------')\n",
    "print(os.name.upper())\n",
    "print(platform.system(), '|', platform.release())\n",
    "print('Datetime:', datetime.now().strftime(\"%Y-%m-%d %H:%M:%S\"))\n",
    "print('Python Version:', python_version())\n",
    "print('IP Address:', socket.gethostbyname(socket.gethostname()))\n",
    "print('-----------------------------------')"
   ]
  }
 ],
 "metadata": {
  "kernelspec": {
   "display_name": "Python 3",
   "language": "python",
   "name": "python3"
  },
  "language_info": {
   "codemirror_mode": {
    "name": "ipython",
    "version": 3
   },
   "file_extension": ".py",
   "mimetype": "text/x-python",
   "name": "python",
   "nbconvert_exporter": "python",
   "pygments_lexer": "ipython3",
   "version": "3.12.1"
  }
 },
 "nbformat": 4,
 "nbformat_minor": 5
}
